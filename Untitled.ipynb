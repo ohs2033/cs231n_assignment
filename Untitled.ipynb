{
 "cells": [
  {
   "cell_type": "code",
   "execution_count": 23,
   "metadata": {},
   "outputs": [
    {
     "name": "stdout",
     "output_type": "stream",
     "text": [
      "\n",
      "    ㅇㅈ 12:38 ㅎㅅ    \n",
      "    ㅇㅈ 12:39 ㅎㅅ ㅇㅂㅇ ㅈㄱ\n",
      "    ㅇㅈ 12:39 ㅎㅅ ㅍㅇㅆ 3 ㅂㅈㅇㅅㅁ ㄷㅇㄱㄴ ㅅㅊㅅ ㅈㅇㅎㄱ\n",
      "    ㅇㅈ 12:39 ㅎㅅ ㅍㅇㅆ 2ㄹ 3ㅇ ㅇㄴㄷ\n",
      "    ㅇㅈ 12:39 ㅎㅅ ㅅㅊㅎㄸ 3ㅇㄹ ㅎㅇㄷㄴㄷㅇㄱㄹ~\n",
      "    ㅇㅈ 12:39 ㅎㅅ ㅅㅇㅆㄱ ㅈㄱㄷ ㅇㅎㅈㄷㅁㅇㄱ~\n",
      "    ㅇㅈ 12:39 ㅎㅅ ㅇㅅㅎㄷ~\n",
      "    -\n",
      "    \n"
     ]
    }
   ],
   "source": [
    "# -*- coding: utf-8 -*-\n",
    "import re\n",
    "\"\"\"\n",
    "    초성 중성 종성 분리 하기\n",
    "\t유니코드 한글은 0xAC00 으로부터\n",
    "\t초성 19개, 중상21개, 종성28개로 이루어지고\n",
    "\t이들을 조합한 11,172개의 문자를 갖는다.\n",
    "\t한글코드의 값 = ((초성 * 21) + 중성) * 28 + 종성 + 0xAC00\n",
    "\t(0xAC00은 'ㄱ'의 코드값)\n",
    "\t따라서 다음과 같은 계산 식이 구해진다.\n",
    "\t유니코드 한글 문자 코드 값이 X일 때,\n",
    "\t초성 = ((X - 0xAC00) / 28) / 21\n",
    "\t중성 = ((X - 0xAC00) / 28) % 21\n",
    "\t종성 = (X - 0xAC00) % 28\n",
    "\t이 때 초성, 중성, 종성의 값은 각 소리 글자의 코드값이 아니라\n",
    "\t이들이 각각 몇 번째 문자인가를 나타내기 때문에 다음과 같이 다시 처리한다.\n",
    "\t초성문자코드 = 초성 + 0x1100 //('ㄱ')\n",
    "\t중성문자코드 = 중성 + 0x1161 // ('ㅏ')\n",
    "\t종성문자코드 = 종성 + 0x11A8 - 1 // (종성이 없는 경우가 있으므로 1을 뺌)\n",
    "\"\"\"\n",
    "# 유니코드 한글 시작 : 44032, 끝 : 55199\n",
    "BASE_CODE, CHOSUNG, JUNGSUNG = 44032, 588, 28\n",
    "\n",
    "# 초성 리스트. 00 ~ 18\n",
    "CHOSUNG_LIST = ['ㄱ', 'ㄲ', 'ㄴ', 'ㄷ', 'ㄸ', 'ㄹ', 'ㅁ', 'ㅂ', 'ㅃ', 'ㅅ', 'ㅆ', 'ㅇ', 'ㅈ', 'ㅉ', 'ㅊ', 'ㅋ', 'ㅌ', 'ㅍ', 'ㅎ']\n",
    "\n",
    "# 중성 리스트. 00 ~ 20\n",
    "JUNGSUNG_LIST = ['ㅏ', 'ㅐ', 'ㅑ', 'ㅒ', 'ㅓ', 'ㅔ', 'ㅕ', 'ㅖ', 'ㅗ', 'ㅘ', 'ㅙ', 'ㅚ', 'ㅛ', 'ㅜ', 'ㅝ', 'ㅞ', 'ㅟ', 'ㅠ', 'ㅡ', 'ㅢ', 'ㅣ']\n",
    "\n",
    "# 종성 리스트. 00 ~ 27 + 1(1개 없음)\n",
    "JONGSUNG_LIST = [' ', 'ㄱ', 'ㄲ', 'ㄳ', 'ㄴ', 'ㄵ', 'ㄶ', 'ㄷ', 'ㄹ', 'ㄺ', 'ㄻ', 'ㄼ', 'ㄽ', 'ㄾ', 'ㄿ', 'ㅀ', 'ㅁ', 'ㅂ', 'ㅄ', 'ㅅ', 'ㅆ', 'ㅇ', 'ㅈ', 'ㅊ', 'ㅋ', 'ㅌ', 'ㅍ', 'ㅎ']\n",
    "\n",
    "\n",
    "if __name__ == '__main__':\n",
    "    test_keyword = \"\"\"\n",
    "    오전 12:38 현수 ㅋㅋㅋ\n",
    "    오전 12:39 현수 은별아 저거\n",
    "    오전 12:39 현수 파이썬 3 버전에서만 돌아가니 설치시 주의하길\n",
    "    오전 12:39 현수 파이썬 2랑 3이 있는데\n",
    "    오전 12:39 현수 설치할때 3으루 해야됩니다용가리~\n",
    "    오전 12:39 현수 상엽쓰가 저것도 안해준단말인가~\n",
    "    오전 12:39 현수 야속하다~\n",
    "    -\n",
    "    \"\"\"\n",
    "    split_keyword_list = list(test_keyword)\n",
    "#     print(split_keyword_list)\n",
    "\n",
    "    result = list()\n",
    "    \n",
    "    result_string = ''\n",
    "    for keyword in split_keyword_list:\n",
    "#         result_string += keyword\n",
    "        # 한글 여부 check 후 분리\n",
    "        if re.match('.*[ㄱ-ㅎㅏ-ㅣ가-힣]+.*', keyword) is not None:\n",
    "            char_code = ord(keyword) - BASE_CODE\n",
    "            char1 = int(char_code / CHOSUNG)\n",
    "            try:\n",
    "                result.append(CHOSUNG_LIST[char1])\n",
    "                result_string += CHOSUNG_LIST[char1]\n",
    "            except IndexError:\n",
    "                result.append(' ')\n",
    "                result_string += ' '\n",
    "            \n",
    "        else:\n",
    "            result.append(keyword)\n",
    "            result_string += keyword\n",
    "    \n",
    "    print(result_string)\n",
    "    # result"
   ]
  },
  {
   "cell_type": "code",
   "execution_count": null,
   "metadata": {},
   "outputs": [],
   "source": []
  }
 ],
 "metadata": {
  "kernelspec": {
   "display_name": "Python 3",
   "language": "python",
   "name": "python3"
  },
  "language_info": {
   "codemirror_mode": {
    "name": "ipython",
    "version": 3
   },
   "file_extension": ".py",
   "mimetype": "text/x-python",
   "name": "python",
   "nbconvert_exporter": "python",
   "pygments_lexer": "ipython3",
   "version": "3.6.5"
  }
 },
 "nbformat": 4,
 "nbformat_minor": 2
}
